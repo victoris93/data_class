{
 "cells": [
  {
   "cell_type": "code",
   "execution_count": 1,
   "id": "86b10564",
   "metadata": {
    "slideshow": {
     "slide_type": "slide"
    }
   },
   "outputs": [],
   "source": [
    "import numpy as np"
   ]
  },
  {
   "cell_type": "code",
   "execution_count": 2,
   "id": "1d7fbd36",
   "metadata": {},
   "outputs": [],
   "source": [
    "def robust_log(x, cte=1e-10):\n",
    "    \"\"\" Compute the log of the elements of an array.\n",
    "    \n",
    "    Values that are equal to 0.0 in `x` are substituted with a tiny constant `cte`\n",
    "    to avoid a divide-by-zero warning, and `-inf` values in the output arrays.\n",
    "    \"\"\"\n",
    "    x[x == 0] = cte\n",
    "    return np.log(x)\n"
   ]
  },
  {
   "cell_type": "code",
   "execution_count": 3,
   "id": "b5b11025",
   "metadata": {},
   "outputs": [
    {
     "name": "stdout",
     "output_type": "stream",
     "text": [
      "[[0.3  0.01]\n",
      " [0.   1.  ]]\n"
     ]
    }
   ],
   "source": [
    "a = np.array([[0.3, 0.01], [0, 1]])\n",
    "print(a)"
   ]
  },
  {
   "cell_type": "code",
   "execution_count": 4,
   "id": "034f2c46",
   "metadata": {},
   "outputs": [
    {
     "name": "stderr",
     "output_type": "stream",
     "text": [
      "/tmp/ipykernel_50294/3282750587.py:2: RuntimeWarning: divide by zero encountered in log\n",
      "  np.log(a)\n"
     ]
    },
    {
     "data": {
      "text/plain": [
       "array([[-1.2039728 , -4.60517019],\n",
       "       [       -inf,  0.        ]])"
      ]
     },
     "execution_count": 4,
     "metadata": {},
     "output_type": "execute_result"
    }
   ],
   "source": [
    "# Using the NumPy's log directly\n",
    "np.log(a)"
   ]
  },
  {
   "cell_type": "code",
   "execution_count": 5,
   "id": "f8fc2dcd",
   "metadata": {},
   "outputs": [
    {
     "data": {
      "text/plain": [
       "array([[ -1.2039728 ,  -4.60517019],\n",
       "       [-23.02585093,   0.        ]])"
      ]
     },
     "execution_count": 5,
     "metadata": {},
     "output_type": "execute_result"
    }
   ],
   "source": [
    "# Our function handles values equal zero to return a small value\n",
    "robust_log(a)"
   ]
  },
  {
   "cell_type": "code",
   "execution_count": 6,
   "id": "2a8e0681",
   "metadata": {},
   "outputs": [
    {
     "name": "stdout",
     "output_type": "stream",
     "text": [
      "[0. 1.]\n"
     ]
    }
   ],
   "source": [
    "a = np.array([[0.3, 0.01], [0, 1]])\n",
    "b = a[1, :]  # A view of `a`\n",
    "print(b)"
   ]
  },
  {
   "cell_type": "code",
   "execution_count": 7,
   "id": "04942ee7",
   "metadata": {},
   "outputs": [
    {
     "data": {
      "text/plain": [
       "array([-23.02585093,   0.        ])"
      ]
     },
     "execution_count": 7,
     "metadata": {},
     "output_type": "execute_result"
    }
   ],
   "source": [
    "robust_log(b)"
   ]
  },
  {
   "cell_type": "code",
   "execution_count": 8,
   "id": "075fef79",
   "metadata": {},
   "outputs": [
    {
     "data": {
      "text/plain": [
       "array([1.e-10, 1.e+00])"
      ]
     },
     "execution_count": 8,
     "metadata": {},
     "output_type": "execute_result"
    }
   ],
   "source": [
    "b"
   ]
  },
  {
   "cell_type": "code",
   "execution_count": 9,
   "id": "c815dd1a",
   "metadata": {},
   "outputs": [
    {
     "data": {
      "text/plain": [
       "array([[3.e-01, 1.e-02],\n",
       "       [1.e-10, 1.e+00]])"
      ]
     },
     "execution_count": 9,
     "metadata": {},
     "output_type": "execute_result"
    }
   ],
   "source": [
    "a"
   ]
  },
  {
   "cell_type": "markdown",
   "id": "4fc789c1",
   "metadata": {
    "slideshow": {
     "slide_type": "slide"
    }
   },
   "source": [
    "Functions that take an array as an input should **avoid modifying it in place!**\n",
    "\n",
    "Always make a copy or be super extra clear in the docstring."
   ]
  },
  {
   "cell_type": "code",
   "execution_count": null,
   "id": "34f70e64",
   "metadata": {},
   "outputs": [],
   "source": [
    "def robust_log(x, cte=1e-10):\n",
    "    \"\"\" Compute the log of the elements of an array.\n",
    "    \n",
    "    Values that are equal to 0.0 in `x` are substituted with a tiny constant `cte`\n",
    "    to avoid a divide-by-zero warning, and `-inf` values in the output arrays.\n",
    "    \"\"\"\n",
    "    x = x.copy()\n",
    "    x[x == 0] = cte\n",
    "    return np.log(x)"
   ]
  }
 ],
 "metadata": {
  "kernelspec": {
   "display_name": "Python 3 (ipykernel)",
   "language": "python",
   "name": "python3"
  },
  "language_info": {
   "codemirror_mode": {
    "name": "ipython",
    "version": 3
   },
   "file_extension": ".py",
   "mimetype": "text/x-python",
   "name": "python",
   "nbconvert_exporter": "python",
   "pygments_lexer": "ipython3",
   "version": "3.11.3"
  }
 },
 "nbformat": 4,
 "nbformat_minor": 5
}
